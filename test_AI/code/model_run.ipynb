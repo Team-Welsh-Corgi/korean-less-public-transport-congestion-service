{
 "cells": [
  {
   "cell_type": "code",
   "execution_count": 7,
   "id": "07ce5bee",
   "metadata": {},
   "outputs": [],
   "source": [
    "from tensorflow import keras\n",
    "import numpy as np\n",
    "\n",
    "model = keras.models.load_model('2024_02_25.h5')\n",
    "\n",
    "result = model.predict('데이터 집어넣기')\n",
    "result = result.tolist()\n",
    "result = result[result.index(max(result))].index(max(max(result))) + 3"
   ]
  }
 ],
 "metadata": {
  "kernelspec": {
   "display_name": "Python 3 (ipykernel)",
   "language": "python",
   "name": "python3"
  },
  "language_info": {
   "codemirror_mode": {
    "name": "ipython",
    "version": 3
   },
   "file_extension": ".py",
   "mimetype": "text/x-python",
   "name": "python",
   "nbconvert_exporter": "python",
   "pygments_lexer": "ipython3",
   "version": "3.11.5"
  }
 },
 "nbformat": 4,
 "nbformat_minor": 5
}
