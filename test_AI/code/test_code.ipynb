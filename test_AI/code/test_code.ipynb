{
 "cells": [
  {
   "cell_type": "markdown",
   "id": "2ae89ffd",
   "metadata": {},
   "source": [
    "# 사용한 라이브러리\n",
    "\n",
    " - pandas\n",
    " - numpy\n",
    " - matplotlib\n",
    " - os\n",
    " - sklearn\n",
    " - tensorflow(keras) => pip install tensorflow"
   ]
  },
  {
   "cell_type": "code",
   "execution_count": null,
   "id": "19ff469e",
   "metadata": {},
   "outputs": [],
   "source": [
    "import pandas as pd\n",
    "import numpy as np\n",
    "import matplotlib.pyplot as plt\n",
    "import os\n",
    "import tensorflow as tf\n",
    "from sklearn.model_selection import train_test_split\n",
    "from keras.models import Model\n",
    "from keras.layers import Input, Dense, LSTM, Bidirectional\n",
    "from keras.utils import to_categorical, np_utils\n",
    "from keras import backend as K"
   ]
  },
  {
   "cell_type": "markdown",
   "id": "4bbae976",
   "metadata": {},
   "source": [
    "# 전처리 과정\n",
    "---"
   ]
  },
  {
   "cell_type": "code",
   "execution_count": null,
   "id": "477340ca",
   "metadata": {},
   "outputs": [],
   "source": [
    "# 서울인지 경기인지 따로 path에 작성\n",
    "path = '../data/(여기에 서울이면 seoul 경기도면 gyeonggi 작성)/'\n",
    "# 촐퇴근 시간 포함할지 안할지 True가 포함 X\n",
    "commute_time = True\n",
    "\n",
    "main_data = pd.DataFrame()\n",
    "\n",
    "for i in os.listdir(path):\n",
    "    #경기도 버스 csv 파일을 거르기 위한 if문\n",
    "    if 'G' not in i:\n",
    "        #종종 csv 파일에 공백이 있는경우가 있는데 그러면 오류 나와서 이를 해결하기위해 만듦 \n",
    "        try:\n",
    "            temp_data = pd.read_csv(path + i, names=['계절', '시간', '버스', '정류장', '혼잡도',\n",
    "                                                     '평휴일', '이전휴일수', '이후휴일수'])\n",
    "            main_data = pd.concat([main_data, temp_data], axis = 0, ignore_index = True)\n",
    "        except:\n",
    "            continue\n",
    "            \n",
    "# 혹시나 혼잡도가 3~6사이가 아닐경우 삭제\n",
    "idx = main_data[((main_data['혼잡도'] < 3) & (main_data['혼잡도'] > 6))].index\n",
    "print(idx)\n",
    "main_data.drop(idx, inplace=True)\n",
    "\n",
    "# 출퇴근 시간 확인\n",
    "if commute_time:\n",
    "            idx = main_data[((main_data['시간'] >= 700) & (main_data['시간'] <= 1000)) |\n",
    "                            ((main_data['시간'] >= 1630) & (main_data['시간'] <= 2000))].index\n",
    "            main_data.drop(idx, inplace=True)\n",
    "            \n",
    "main_data = main_data.astype('float32')\n",
    "\n",
    "# 버스와 시간은 스케일링 했습니다. (0~1사이로 조정)\n",
    "main_data['시간'] = main_data['시간'] / 2400\n",
    "main_data['버스'] = main_data['버스'] / 682\n",
    "\n",
    "y = main_data['혼잡도']\n",
    "del main_data['혼잡도']\n",
    "\n",
    "y = y-2\n",
    "y = to_categorical(y)\n",
    "\n",
    "#numpy array형식으로 변경 후 LSTM 모델 형식에 맞게 reshape\n",
    "X = np.array(main_data)\n",
    "X = X.reshape(len(X), len(X[0]), 1)\n",
    "\n",
    "X_train, X_test, y_train, y_test = train_test_split(X, y, random_state=777)"
   ]
  },
  {
   "cell_type": "markdown",
   "id": "50dee8fe",
   "metadata": {},
   "source": [
    "# 모델 설계\n",
    "\n",
    " - LSTM 모델로 설정\n",
    " - 길이는 우리 파일 길이에 맞게 설정해놓았습니다.\n",
    " - 따로 건드릴건 없습니다!\n",
    "---"
   ]
  },
  {
   "cell_type": "code",
   "execution_count": null,
   "id": "a87ab976",
   "metadata": {},
   "outputs": [],
   "source": [
    "K.clear_session()\n",
    "xInput = Input(batch_shape=(None,X_train.shape[1], X_train.shape[2]))\n",
    "xLstm_1 = LSTM(len(X_train[0]), return_sequences= True)(xInput)\n",
    "xLstm_2 = Bidirectional(LSTM(10))(xLstm_1)\n",
    "xOutput = Dense(4, activation= 'softmax')(xLstm_2)\n",
    "model = Model(xInput, xOutput)\n",
    "model.compile(loss=tf.keras.losses.categorical_crossentropy, optimizer='adam', metrics=['accuracy'])"
   ]
  },
  {
   "cell_type": "markdown",
   "id": "a4d95c60",
   "metadata": {},
   "source": [
    "# 모델 학습\n",
    "\n",
    " - 모델 학습 단계입니다.\n",
    " - epochs는 학습 횟수입니다.(한번 돌려보시고 데이터가 많아서 느리다면 에폭을 줄여주세요.)\n",
    " - loss가 1이하로 나온다면 많이 안하셔도 됩니다.\n",
    " - loss가 내려가지않고 유지된다면 이제 더이상 학습하기 힘들수도 있습니다.\n",
    " - batch_size는 한번에 얼마나 많은 데이터를 학습시킬지 입니다. 데이터가 부족하면 줄이고 많다면 늘려주세요.\n",
    " - verbose는 신경안써도 됩니다!\n",
    "---"
   ]
  },
  {
   "cell_type": "code",
   "execution_count": null,
   "id": "57ba93fa",
   "metadata": {
    "scrolled": true
   },
   "outputs": [],
   "source": [
    "model.fit(X_train, y_train, epochs=2, batch_size=20)"
   ]
  },
  {
   "cell_type": "markdown",
   "id": "92b35a70",
   "metadata": {},
   "source": [
    "# 모델 테스트\n",
    "\n",
    " - 모델 테스트 단계입니다.\n",
    " - test 데이터가 100000개가 넘어가면 자르게 설정했습니다.\n",
    " - X_backup과 y_backup에 따로 백업하고 자릅니다!\n",
    "---"
   ]
  },
  {
   "cell_type": "code",
   "execution_count": null,
   "id": "4465348e",
   "metadata": {},
   "outputs": [],
   "source": [
    "if len(X_test) > 100000:\n",
    "    X_backup = X_test\n",
    "    y_backup = y_test\n",
    "    X_test = X_test[0:100000]\n",
    "    y_test = y_test[0:100000]\n",
    "y_hat =(model.predict(X_test) > 0.5).astype(\"int32\")"
   ]
  },
  {
   "cell_type": "markdown",
   "id": "aa0058fd",
   "metadata": {},
   "source": [
    "# 결과 확인\n",
    "\n",
    " - 결과 확인 입니다!\n",
    " - 첫번째는 부분 확인입니다.\n",
    "  - start_line에 원하는 숫자과 end_line에 start_line보다 큰수를 입력하면 결과 확인할 수 있습니다.\n",
    " \n",
    "---"
   ]
  },
  {
   "cell_type": "code",
   "execution_count": null,
   "id": "89a3e25a",
   "metadata": {},
   "outputs": [],
   "source": [
    "start_line = 0\n",
    "end_line = 200\n",
    "\n",
    "result = []\n",
    "label = []\n",
    "for i in y_hat:\n",
    "    result.append(i.tolist().index(1))\n",
    "for i in y_test:\n",
    "    label.append(i.tolist().index(1))\n",
    "b_axis = np.arange(0, len(result[start_line:end_line]))\n",
    "\n",
    "plt.figure(figsize=(20,8))\n",
    "plt.plot(b_axis, result[start_line:end_line], 'o-', color='red', label='Predicted')\n",
    "plt.plot(b_axis, label[start_line:end_line], 'o-', color='green', alpha=0.2, label='Actual')\n",
    "plt.legend()\n",
    "plt.show()"
   ]
  },
  {
   "cell_type": "code",
   "execution_count": null,
   "id": "43d247a2",
   "metadata": {},
   "outputs": [],
   "source": [
    "result = []\n",
    "label = []\n",
    "for i in y_hat:\n",
    "    result.append(i.tolist().index(1))\n",
    "for i in y_test:\n",
    "    label.append(i.tolist().index(1))\n",
    "b_axis = np.arange(0, len(result))\n",
    "\n",
    "plt.figure(figsize=(20,8))\n",
    "plt.plot(b_axis, result, 'o-', color='red', label='Predicted')\n",
    "plt.plot(b_axis, label, 'o-', color='green', alpha=0.2, label='Actual')\n",
    "plt.legend()\n",
    "plt.show()"
   ]
  }
 ],
 "metadata": {
  "kernelspec": {
   "display_name": "Python 3 (ipykernel)",
   "language": "python",
   "name": "python3"
  },
  "language_info": {
   "codemirror_mode": {
    "name": "ipython",
    "version": 3
   },
   "file_extension": ".py",
   "mimetype": "text/x-python",
   "name": "python",
   "nbconvert_exporter": "python",
   "pygments_lexer": "ipython3",
   "version": "3.10.9"
  }
 },
 "nbformat": 4,
 "nbformat_minor": 5
}
